{
 "cells": [
  {
   "cell_type": "markdown",
   "id": "dce5fa5e-9fff-4969-a9f3-f20b9230cdbf",
   "metadata": {},
   "source": [
    "# Data Mining (2CSDE71)\n",
    "## Name :- Harsh Pansuriya\n",
    "## Roll No. :- 21BCE176\n",
    "## Date :- 19th January, 2024\n",
    "## Prac. No :- 2"
   ]
  },
  {
   "cell_type": "markdown",
   "id": "a6f1d10f-954c-4f8f-abe4-483a5d3ec67a",
   "metadata": {},
   "source": [
    "> Aim :- Calculate the dissimilarity value of the various types of attributes on the dataset identified in Practical 1."
   ]
  },
  {
   "cell_type": "code",
   "execution_count": 1,
   "id": "99e277c6-f919-4b1d-8007-591d43d27762",
   "metadata": {},
   "outputs": [],
   "source": [
    "import numpy as np\n",
    "import pandas as pd\n",
    "from scipy.spatial.distance import pdist, squareform, jaccard, cityblock"
   ]
  },
  {
   "cell_type": "code",
   "execution_count": 2,
   "id": "272b8325-2b8e-416d-8557-2cf0f405f3b7",
   "metadata": {},
   "outputs": [],
   "source": [
    "# Assuming the data is in a CSV file (adjust if needed)\n",
    "data = pd.read_csv(\"/Users/harsh/Documents/DM/Database/hr_ds.csv\")"
   ]
  },
  {
   "cell_type": "code",
   "execution_count": 3,
   "id": "14dab769-6dca-4cc7-9378-879665b1b1a7",
   "metadata": {},
   "outputs": [
    {
     "name": "stdout",
     "output_type": "stream",
     "text": [
      "<class 'pandas.core.frame.DataFrame'>\n",
      "RangeIndex: 311 entries, 0 to 310\n",
      "Data columns (total 36 columns):\n",
      " #   Column                      Non-Null Count  Dtype  \n",
      "---  ------                      --------------  -----  \n",
      " 0   Employee_Name               311 non-null    object \n",
      " 1   EmpID                       311 non-null    int64  \n",
      " 2   MarriedID                   311 non-null    int64  \n",
      " 3   MaritalStatusID             311 non-null    int64  \n",
      " 4   GenderID                    311 non-null    int64  \n",
      " 5   EmpStatusID                 311 non-null    int64  \n",
      " 6   DeptID                      311 non-null    int64  \n",
      " 7   PerfScoreID                 311 non-null    int64  \n",
      " 8   FromDiversityJobFairID      311 non-null    int64  \n",
      " 9   Salary                      311 non-null    int64  \n",
      " 10  Termd                       311 non-null    int64  \n",
      " 11  PositionID                  311 non-null    int64  \n",
      " 12  Position                    311 non-null    object \n",
      " 13  State                       311 non-null    object \n",
      " 14  Zip                         311 non-null    int64  \n",
      " 15  DOB                         311 non-null    object \n",
      " 16  Sex                         311 non-null    object \n",
      " 17  MaritalDesc                 311 non-null    object \n",
      " 18  CitizenDesc                 311 non-null    object \n",
      " 19  HispanicLatino              311 non-null    object \n",
      " 20  RaceDesc                    311 non-null    object \n",
      " 21  DateofHire                  311 non-null    object \n",
      " 22  DateofTermination           104 non-null    object \n",
      " 23  TermReason                  311 non-null    object \n",
      " 24  EmploymentStatus            311 non-null    object \n",
      " 25  Department                  311 non-null    object \n",
      " 26  ManagerName                 311 non-null    object \n",
      " 27  ManagerID                   303 non-null    float64\n",
      " 28  RecruitmentSource           311 non-null    object \n",
      " 29  PerformanceScore            311 non-null    object \n",
      " 30  EngagementSurvey            311 non-null    float64\n",
      " 31  EmpSatisfaction             311 non-null    int64  \n",
      " 32  SpecialProjectsCount        311 non-null    int64  \n",
      " 33  LastPerformanceReview_Date  311 non-null    object \n",
      " 34  DaysLateLast30              311 non-null    int64  \n",
      " 35  Absences                    311 non-null    int64  \n",
      "dtypes: float64(2), int64(16), object(18)\n",
      "memory usage: 87.6+ KB\n"
     ]
    }
   ],
   "source": [
    "data.info()"
   ]
  },
  {
   "cell_type": "markdown",
   "id": "031213e3-9fdc-4742-bdf3-1f39b8a415fe",
   "metadata": {},
   "source": [
    "> In this dataset we can see that 2 attribute have some null values. One is DateofTermination and another is ManagerID.\n",
    "So we will remove those attributes. "
   ]
  },
  {
   "cell_type": "code",
   "execution_count": 4,
   "id": "3de80e18-d0b8-4b70-87db-9b58483e9fef",
   "metadata": {},
   "outputs": [],
   "source": [
    "# Drop the specified columns\n",
    "columns_to_remove = [\"DateofTermination\", \"ManagerID\"]\n",
    "data = data.drop(columns=columns_to_remove)"
   ]
  },
  {
   "cell_type": "code",
   "execution_count": 5,
   "id": "a99e39fd-cd3b-4102-9e8e-c7a84346c985",
   "metadata": {},
   "outputs": [
    {
     "name": "stdout",
     "output_type": "stream",
     "text": [
      "<class 'pandas.core.frame.DataFrame'>\n",
      "RangeIndex: 311 entries, 0 to 310\n",
      "Data columns (total 34 columns):\n",
      " #   Column                      Non-Null Count  Dtype  \n",
      "---  ------                      --------------  -----  \n",
      " 0   Employee_Name               311 non-null    object \n",
      " 1   EmpID                       311 non-null    int64  \n",
      " 2   MarriedID                   311 non-null    int64  \n",
      " 3   MaritalStatusID             311 non-null    int64  \n",
      " 4   GenderID                    311 non-null    int64  \n",
      " 5   EmpStatusID                 311 non-null    int64  \n",
      " 6   DeptID                      311 non-null    int64  \n",
      " 7   PerfScoreID                 311 non-null    int64  \n",
      " 8   FromDiversityJobFairID      311 non-null    int64  \n",
      " 9   Salary                      311 non-null    int64  \n",
      " 10  Termd                       311 non-null    int64  \n",
      " 11  PositionID                  311 non-null    int64  \n",
      " 12  Position                    311 non-null    object \n",
      " 13  State                       311 non-null    object \n",
      " 14  Zip                         311 non-null    int64  \n",
      " 15  DOB                         311 non-null    object \n",
      " 16  Sex                         311 non-null    object \n",
      " 17  MaritalDesc                 311 non-null    object \n",
      " 18  CitizenDesc                 311 non-null    object \n",
      " 19  HispanicLatino              311 non-null    object \n",
      " 20  RaceDesc                    311 non-null    object \n",
      " 21  DateofHire                  311 non-null    object \n",
      " 22  TermReason                  311 non-null    object \n",
      " 23  EmploymentStatus            311 non-null    object \n",
      " 24  Department                  311 non-null    object \n",
      " 25  ManagerName                 311 non-null    object \n",
      " 26  RecruitmentSource           311 non-null    object \n",
      " 27  PerformanceScore            311 non-null    object \n",
      " 28  EngagementSurvey            311 non-null    float64\n",
      " 29  EmpSatisfaction             311 non-null    int64  \n",
      " 30  SpecialProjectsCount        311 non-null    int64  \n",
      " 31  LastPerformanceReview_Date  311 non-null    object \n",
      " 32  DaysLateLast30              311 non-null    int64  \n",
      " 33  Absences                    311 non-null    int64  \n",
      "dtypes: float64(1), int64(16), object(17)\n",
      "memory usage: 82.7+ KB\n"
     ]
    }
   ],
   "source": [
    "data.info()"
   ]
  },
  {
   "cell_type": "markdown",
   "id": "fc5d20cc-48dd-4435-bd6c-1d55ad5e077a",
   "metadata": {},
   "source": [
    "> from the above dataset we will select the attributes which can be used for mining the info from dataset. "
   ]
  },
  {
   "cell_type": "code",
   "execution_count": 6,
   "id": "04edc061-613a-4713-a0ca-4501f0678395",
   "metadata": {},
   "outputs": [],
   "source": [
    "# Select the specified columns\n",
    "selected_columns = [\"MarriedID\", \"Salary\", \"Position\", \"Sex\", \"EngagementSurvey\", \"Absences\"]\n",
    "selected_data = data[selected_columns]\n",
    "\n",
    "# Rename the 'EngagementSurvey' column to 'EngagementScore'\n",
    "selected_data = selected_data.rename(columns={'EngagementSurvey': 'EngagementScore'})\n",
    "selected_data['Position'] = selected_data['Position'].str.strip()"
   ]
  },
  {
   "cell_type": "code",
   "execution_count": 7,
   "id": "1409b51c-de38-4c77-8f0d-31483d0fa291",
   "metadata": {},
   "outputs": [
    {
     "name": "stdout",
     "output_type": "stream",
     "text": [
      "<class 'pandas.core.frame.DataFrame'>\n",
      "RangeIndex: 311 entries, 0 to 310\n",
      "Data columns (total 6 columns):\n",
      " #   Column           Non-Null Count  Dtype  \n",
      "---  ------           --------------  -----  \n",
      " 0   MarriedID        311 non-null    int64  \n",
      " 1   Salary           311 non-null    int64  \n",
      " 2   Position         311 non-null    object \n",
      " 3   Sex              311 non-null    object \n",
      " 4   EngagementScore  311 non-null    float64\n",
      " 5   Absences         311 non-null    int64  \n",
      "dtypes: float64(1), int64(3), object(2)\n",
      "memory usage: 14.7+ KB\n"
     ]
    }
   ],
   "source": [
    "selected_data.info()"
   ]
  },
  {
   "cell_type": "code",
   "execution_count": 8,
   "id": "2435f8ed-5c65-4c2b-b368-51a5a9cde6e9",
   "metadata": {},
   "outputs": [],
   "source": [
    "position_hierarchy = {\n",
    "    1: ['President & CEO', 'CIO'],\n",
    "    2: ['Director of Operations', 'Sales Manager', 'Shared Services Manager', 'IT Manager - Infra', 'IT Manager - DB'],\n",
    "    3: ['Sr. DBA', 'Software Engineer', 'Data Analyst', 'Database Administrator', 'Enterprise Architect',\n",
    "                  'Sr. Accountant', 'Production Manager', 'Accountant I', 'Area Sales Manager',\n",
    "                  'Software Engineering Manager', 'BI Director', 'Sr. Network Engineer', 'Sales Manager',\n",
    "                  'BI Developer', 'IT Manager - Support', 'Network Engineer', 'IT Director', 'Director of Sales',\n",
    "                  'Principal Data Architect', 'Data Architect', 'IT Manager - DB', 'Data Analyst', 'Senior BI Developer',\n",
    "                  'Production Technician I','Production Technician II'],\n",
    "    4: ['IT Support', 'Administrative Assistant']\n",
    "}"
   ]
  },
  {
   "cell_type": "code",
   "execution_count": 9,
   "id": "a12f8c04-5193-4321-9001-a765718a2332",
   "metadata": {},
   "outputs": [],
   "source": [
    "# Create a new column with hierarchical encoding\n",
    "def encode_position(position):\n",
    "    for level, positions in position_hierarchy.items():\n",
    "        if position in positions:\n",
    "            return level\n",
    "    return 'Unknown'  # Assign a default level for positions not in the hierarchy\n",
    "selected_data['PositionHierarchy'] = selected_data['Position'].apply(encode_position)\n",
    "selected_data['PositionHierarchy'] = selected_data['PositionHierarchy'].astype(int)"
   ]
  },
  {
   "cell_type": "code",
   "execution_count": 10,
   "id": "4e80bab8-b2a2-45eb-b254-90139c42c9d3",
   "metadata": {},
   "outputs": [],
   "source": [
    "# Map 'Male' to 0 and 'Female' to 1 in the 'Sex' column\n",
    "# Clean up whitespaces in the 'Sex' column and map to integers\n",
    "sex_mapping = {'M': 0, 'F': 1}\n",
    "selected_data['Sex'] = selected_data['Sex'].str.strip().map(sex_mapping)"
   ]
  },
  {
   "cell_type": "code",
   "execution_count": 11,
   "id": "f1cf50ec-d9ed-43bf-bf33-73d721d05df1",
   "metadata": {},
   "outputs": [
    {
     "name": "stdout",
     "output_type": "stream",
     "text": [
      "╒═════════════════╤═════════════╤══════════════════╕\n",
      "│ Column Name     │ Data type   │ Attribute type   │\n",
      "╞═════════════════╪═════════════╪══════════════════╡\n",
      "│ MarriedID       │ boolean     │ Nominal data     │\n",
      "├─────────────────┼─────────────┼──────────────────┤\n",
      "│ Salary          │ int64       │ Numerical data   │\n",
      "├─────────────────┼─────────────┼──────────────────┤\n",
      "│ Position        │ int8        │ Ordinal data     │\n",
      "├─────────────────┼─────────────┼──────────────────┤\n",
      "│ Sex             │ boolean     │ Nominal data     │\n",
      "├─────────────────┼─────────────┼──────────────────┤\n",
      "│ EngagementScore │ float64     │ Numerical data   │\n",
      "├─────────────────┼─────────────┼──────────────────┤\n",
      "│ Absences        │ int64       │ Numerical data   │\n",
      "╘═════════════════╧═════════════╧══════════════════╛\n"
     ]
    }
   ],
   "source": [
    "from tabulate import tabulate\n",
    "\n",
    "# Define the table data\n",
    "table_data = [\n",
    "    [\"Column Name\", \"Data type\", \"Attribute type\"],\n",
    "    [\"MarriedID\", \"boolean\", \"Nominal data\"],\n",
    "    [\"Salary\", \"int64\", \"Numerical data\"],\n",
    "    [\"Position\", \"int8\", \"Ordinal data\"],\n",
    "    [\"Sex\", \"boolean\", \"Nominal data\"],\n",
    "    [\"EngagementScore\", \"float64\", \"Numerical data\"],\n",
    "    [\"Absences\", \"int64\", \"Numerical data\"],\n",
    "]\n",
    "\n",
    "# Print the table using tabulate\n",
    "print(tabulate(table_data, headers=\"firstrow\", tablefmt=\"fancy_grid\"))\n"
   ]
  },
  {
   "cell_type": "code",
   "execution_count": 12,
   "id": "332ccd67-12ca-4313-b0b4-9731c00243e8",
   "metadata": {},
   "outputs": [],
   "source": [
    "selected_data = selected_data.drop(columns=['Position'])"
   ]
  },
  {
   "cell_type": "code",
   "execution_count": 13,
   "id": "480d26e3-37f3-4aa4-a41a-33f50be25f09",
   "metadata": {},
   "outputs": [
    {
     "name": "stdout",
     "output_type": "stream",
     "text": [
      "<class 'pandas.core.frame.DataFrame'>\n",
      "RangeIndex: 311 entries, 0 to 310\n",
      "Data columns (total 6 columns):\n",
      " #   Column             Non-Null Count  Dtype  \n",
      "---  ------             --------------  -----  \n",
      " 0   MarriedID          311 non-null    int64  \n",
      " 1   Salary             311 non-null    int64  \n",
      " 2   Sex                311 non-null    int64  \n",
      " 3   EngagementScore    311 non-null    float64\n",
      " 4   Absences           311 non-null    int64  \n",
      " 5   PositionHierarchy  311 non-null    int64  \n",
      "dtypes: float64(1), int64(5)\n",
      "memory usage: 14.7 KB\n"
     ]
    }
   ],
   "source": [
    "selected_data.info()"
   ]
  },
  {
   "cell_type": "code",
   "execution_count": 14,
   "id": "bc5b2ac0-cf7b-4441-8e14-beeeb0c250a3",
   "metadata": {},
   "outputs": [],
   "source": [
    "import seaborn as sns\n",
    "import matplotlib.pyplot as plt"
   ]
  },
  {
   "cell_type": "code",
   "execution_count": 15,
   "id": "aa7345bd-c957-459c-9358-7e38fac325be",
   "metadata": {},
   "outputs": [
    {
     "data": {
      "image/png": "[encoded data removed]",
      "text/plain": [
       "<Figure size 1000x800 with 2 Axes>"
      ]
     },
     "metadata": {},
     "output_type": "display_data"
    }
   ],
   "source": [
    "# Calculate dissimilarity matrix\n",
    "dissimilarity_matrix = pdist(selected_data.T, metric='jaccard')  # You can choose a different metric based on your data\n",
    "\n",
    "# Convert the dissimilarity matrix to a squareform\n",
    "dissimilarity_square = squareform(dissimilarity_matrix)\n",
    "\n",
    "# Create a DataFrame for the dissimilarity values\n",
    "dissimilarity_df = pd.DataFrame(dissimilarity_square, columns=selected_columns, index=selected_columns)\n",
    "\n",
    "# Plot the heatmap\n",
    "plt.figure(figsize=(10, 8))\n",
    "sns.heatmap(dissimilarity_df, annot=True, cmap=\"YlGnBu\", fmt=\".2f\", linewidths=.5)\n",
    "plt.title(\"Dissimilarity Heatmap of Selected Attributes\")\n",
    "plt.show()"
   ]
  },
  {
   "cell_type": "markdown",
   "id": "b5ae55bb-8380-4eac-b275-0d3c6c881e62",
   "metadata": {},
   "source": [
    "## Conclusion"
   ]
  },
  {
   "cell_type": "markdown",
   "id": "fa2fc6d4-d1e5-4dfa-bc1a-0af198980179",
   "metadata": {},
   "source": [
    "The dataset shows differences in marital status, gender, salary, absences, and engagement scores, using the Jaccard coefficient for selected attributes in the dataset. The resulting heatmap visually represents the dissimilarity values, offering insights into the distinctiveness among the chosen attributes."
   ]
  }
 ],
 "metadata": {
  "kernelspec": {
   "display_name": "Python 3 (ipykernel)",
   "language": "python",
   "name": "python3"
  },
  "language_info": {
   "codemirror_mode": {
    "name": "ipython",
    "version": 3
   },
   "file_extension": ".py",
   "mimetype": "text/x-python",
   "name": "python",
   "nbconvert_exporter": "python",
   "pygments_lexer": "ipython3",
   "version": "3.11.4"
  }
 },
 "nbformat": 4,
 "nbformat_minor": 5
}
