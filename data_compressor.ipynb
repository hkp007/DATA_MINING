{
 "cells": [
  {
   "cell_type": "code",
   "execution_count": 2,
   "metadata": {},
   "outputs": [],
   "source": [
    "import gzip\n",
    "\n",
    "def compress_file(input_file, output_file):\n",
    "    with open(input_file, 'rb') as f_in:\n",
    "        with gzip.open(output_file, 'wb') as f_out:\n",
    "            f_out.writelines(f_in)\n",
    "\n",
    "input_file = \"/Users/harsh/Documents/DM_prac/DM_innovative/DataBase/CEEW - Smart meter data Bareilly 2020.csv\"\n",
    "output_file = \"/Users/harsh/Documents/DM_prac/DM_innovative/DataBase/CEEW - Smart meter data Bareilly 2020.csv.gz\"\n",
    "\n",
    "compress_file(input_file, output_file)\n"
   ]
  },
  {
   "cell_type": "code",
   "execution_count": null,
   "metadata": {},
   "outputs": [],
   "source": []
  }
 ],
 "metadata": {
  "kernelspec": {
   "display_name": "Python 3",
   "language": "python",
   "name": "python3"
  },
  "language_info": {
   "codemirror_mode": {
    "name": "ipython",
    "version": 3
   },
   "file_extension": ".py",
   "mimetype": "text/x-python",
   "name": "python",
   "nbconvert_exporter": "python",
   "pygments_lexer": "ipython3",
   "version": "3.11.4"
  }
 },
 "nbformat": 4,
 "nbformat_minor": 2
}
