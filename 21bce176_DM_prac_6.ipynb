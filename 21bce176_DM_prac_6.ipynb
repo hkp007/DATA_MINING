{
 "cells": [
  {
   "cell_type": "markdown",
   "id": "1d6b26f4-f7a8-409d-9119-763c46ca4684",
   "metadata": {},
   "source": [
    "# Data Mining (2CSDE71)\n",
    "## Name :- Harsh Pansuriya\n",
    "## Roll No. :- 21BCE176\n",
    "## Date :- 12th March, 2024\n",
    "## Prac. No :- 6"
   ]
  },
  {
   "cell_type": "markdown",
   "id": "66d3d281-4ef4-4970-96ab-c31ba2cf8462",
   "metadata": {},
   "source": [
    "#### Aim:- \n",
    "Implement Principal component analysis Dimensionality reduction technique.(Do not use any available library of PCA)"
   ]
  },
  {
   "cell_type": "code",
   "execution_count": 15,
   "id": "da715e2c-f1d1-418e-bad6-f0b69a0ebd67",
   "metadata": {},
   "outputs": [],
   "source": [
    "import numpy as np\n",
    "import pandas as pd\n",
    "import statistics\n",
    "import matplotlib.pyplot as plt\n",
    "import math\n",
    "from sklearn.preprocessing import LabelEncoder"
   ]
  },
  {
   "cell_type": "code",
   "execution_count": 16,
   "id": "31e1ed23-87e6-4e55-8346-9381074ed699",
   "metadata": {},
   "outputs": [
    {
     "name": "stdout",
     "output_type": "stream",
     "text": [
      "   Diastolic BP  Systolic BP  Weight  Height\n",
      "0            78          126      67     170\n",
      "1            80          128      77     177\n",
      "2            81          127      89     183\n",
      "3            82          130      90     187\n",
      "4            84          130      50     165\n",
      "5            86          132      55     164\n"
     ]
    }
   ],
   "source": [
    "# Define column names\n",
    "columns = [\"Diastolic BP\",\"Systolic BP\",\"Weight\",\"Height\"]\n",
    "\n",
    "# Create an empty DataFrame with column names\n",
    "df = pd.DataFrame(columns=columns)\n",
    "\n",
    "# Add values to the DataFrame\n",
    "data = [\n",
    "    [78,126,67,170],\n",
    "    [80,128,77,177],\n",
    "    [81,127,89,183],\n",
    "    [82,130,90,187],\n",
    "    [84,130,50,165],\n",
    "    [86,132,55,164]\n",
    "]\n",
    "\n",
    "# Create a DataFrame from the data\n",
    "data_df = pd.DataFrame(data, columns=columns)\n",
    "\n",
    "print(data_df)"
   ]
  },
  {
   "cell_type": "markdown",
   "id": "863e2fd0-9670-4b51-b9bb-f8b8bc68e176",
   "metadata": {},
   "source": [
    "### Steps of PCA :\n",
    "Step 1 - Data normalization\n",
    "\n",
    "Step 2 - Covariance matrix\n",
    "\n",
    "Step 3 - Eigenvectors and eigenvalues\n",
    "\n",
    "Step 4 - Selection of principal components\n",
    "\n",
    "Step 5 - Data transformation in new dimensional space"
   ]
  },
  {
   "cell_type": "code",
   "execution_count": 17,
   "id": "4eae0c1b-00ab-426f-9df9-eeb82cea3d11",
   "metadata": {},
   "outputs": [
    {
     "name": "stdout",
     "output_type": "stream",
     "text": [
      "     Weight    Height\n",
      "0 -0.280365 -0.497431\n",
      "1  0.366631  0.306111\n",
      "2  1.143027  0.994862\n",
      "3  1.207727  1.454030\n",
      "4 -1.380259 -1.071390\n",
      "5 -1.056761 -1.186182\n"
     ]
    }
   ],
   "source": [
    "# Data Normalization\n",
    "def normalize_data(data):\n",
    "    mean = np.mean(data, axis=0)\n",
    "    std_dev = np.std(data, axis=0)\n",
    "    # Handle cases where standard deviation is zero or very small\n",
    "    std_dev[std_dev < 1e-8] = 1\n",
    "    normalized_data = (data - mean) / std_dev\n",
    "    return normalized_data, mean, std_dev\n",
    "\n",
    "print(normalize_data(data_df[[\"Weight\",\"Height\"]])[0])"
   ]
  },
  {
   "cell_type": "code",
   "execution_count": 18,
   "id": "47756c28-4b05-45a2-9f5f-c480e3af799d",
   "metadata": {},
   "outputs": [],
   "source": [
    "# Covariance matrix\n",
    "def calculate_covariance_matrix(data):\n",
    "    # Calculate the mean of each column\n",
    "    means = data.mean()\n",
    "    # Center the data by subtracting the mean from each element in each column\n",
    "    centered_data = data - means\n",
    "    # Calculate the covariance between each pair of centered columns\n",
    "    num_columns = len(data.columns)\n",
    "    cov_matrix = np.zeros((num_columns, num_columns))\n",
    "    for i in range(num_columns):\n",
    "        for j in range(num_columns):\n",
    "            cov_matrix[i, j] = np.sum(centered_data.iloc[:, i] * centered_data.iloc[:, j]) / (len(data) - 1)\n",
    "    # Assemble the covariance values into a matrix\n",
    "    cov_mat = pd.DataFrame(cov_matrix, index=data.columns, columns=data.columns)\n",
    "    return cov_mat"
   ]
  },
  {
   "cell_type": "code",
   "execution_count": 19,
   "id": "eff75fc4-c08e-4c9a-9ed5-230ddf2bcf94",
   "metadata": {},
   "outputs": [],
   "source": [
    "# Eigenvectors and Eigenvalues\n",
    "def find_eigenvalues_eigenvectors(matrix):\n",
    "    # Initialize the eigenvectors as identity matrix\n",
    "    n = len(matrix)\n",
    "    eigenvectors = np.eye(n)\n",
    "    # Set the initial eigenvectors randomly\n",
    "    eigenvectors[:, 0] = np.random.rand(n)\n",
    "    \n",
    "    # Perform power iteration method to find the eigenvectors\n",
    "    for i in range(1, n):\n",
    "        # Multiply matrix with current eigenvector estimate\n",
    "        new_vector = np.dot(matrix, eigenvectors[:, i-1])\n",
    "        # Normalize the new vector\n",
    "        new_vector_norm = np.linalg.norm(new_vector)\n",
    "        new_vector = new_vector / new_vector_norm\n",
    "        # Update eigenvector estimate\n",
    "        eigenvectors[:, i] = new_vector\n",
    "    \n",
    "    # Calculate eigenvalues from Rayleigh quotient\n",
    "    eigenvalues = []\n",
    "    for i in range(n):\n",
    "        x = np.dot(eigenvectors[:, i], eigenvectors[:, i])\n",
    "        y = np.dot(matrix.dot(eigenvectors[:, i]), eigenvectors[:, i])\n",
    "        eigenvalue = ( y / x )\n",
    "        eigenvalues.append(eigenvalue)\n",
    "    \n",
    "    return np.array(eigenvalues), eigenvectors"
   ]
  },
  {
   "cell_type": "code",
   "execution_count": 20,
   "id": "a5e63f03-df63-478c-8461-ec76cabb555a",
   "metadata": {},
   "outputs": [],
   "source": [
    "# Selection of principal components\n",
    "def compute_variance_explained(eigenvalues):\n",
    "    # Rank the eigenvalues in descending order\n",
    "    sorted_eigenvalues = np.sort(eigenvalues)[::-1]\n",
    "    \n",
    "    # Compute the percentage of variance explained by each component\n",
    "    total_variance = np.sum(sorted_eigenvalues)\n",
    "    variance_explained = sorted_eigenvalues / total_variance * 100\n",
    "    \n",
    "    return variance_explained"
   ]
  },
  {
   "cell_type": "code",
   "execution_count": 21,
   "id": "5a570f07-3220-49b0-8e1f-d79e6e289aa4",
   "metadata": {},
   "outputs": [],
   "source": [
    "def keep_significant_eigenvectors(eigenvectors, variance_explained, threshold=10):\n",
    "    # Find indices of eigenvectors with variance >= threshold\n",
    "    significant_indices = np.where(variance_explained >= threshold)[0]\n",
    "    \n",
    "    # Create a matrix to store the feature vectors\n",
    "    feature_vectors = np.zeros_like(eigenvectors)\n",
    "    \n",
    "    # Set the eigenvectors with significant variance\n",
    "    for idx in significant_indices:\n",
    "        feature_vectors[:, idx] = eigenvectors[:, idx]\n",
    "    \n",
    "    return feature_vectors"
   ]
  },
  {
   "cell_type": "code",
   "execution_count": 22,
   "id": "debb144d-4bef-48bb-8b5f-357b1e86b539",
   "metadata": {},
   "outputs": [],
   "source": [
    "def project_data_onto_principal_components(data, feature_vectors):\n",
    "    # Transpose the feature vectors\n",
    "    transposed_feature_vectors = feature_vectors.T\n",
    "    \n",
    "    # Project the data onto the principal components\n",
    "    projected_data = np.dot(transposed_feature_vectors, data.T)  # Transpose data\n",
    "    \n",
    "    return projected_data"
   ]
  },
  {
   "cell_type": "code",
   "execution_count": 23,
   "id": "224a9f9e-c450-4a4f-8e4a-e3915f598e96",
   "metadata": {},
   "outputs": [
    {
     "name": "stdout",
     "output_type": "stream",
     "text": [
      "[1.55269466 2.49576092 3.12860839 3.3082859 ]\n",
      "PC1: 31.55% of variance explained\n",
      "PC2: 29.84% of variance explained\n",
      "PC3: 23.80% of variance explained\n",
      "PC4: 14.81% of variance explained\n",
      "Feature vectors:\n",
      "[[0.40455876 0.         0.         0.        ]\n",
      " [0.04962735 0.         0.         0.        ]\n",
      " [0.56955988 0.         0.         0.        ]\n",
      " [0.64149927 0.         0.         0.        ]]\n",
      "Projected data onto principal components:\n",
      "[[-1.1423674   0.10055127  1.11527252  1.67493753 -1.10897502 -0.63941891]\n",
      " [ 0.          0.          0.          0.          0.          0.        ]\n",
      " [ 0.          0.          0.          0.          0.          0.        ]\n",
      " [ 0.          0.          0.          0.          0.          0.        ]]\n"
     ]
    }
   ],
   "source": [
    "normalized_data, mean, std_dev = normalize_data(data_df)\n",
    "\n",
    "covariance_matrix = calculate_covariance_matrix(normalized_data)\n",
    "\n",
    "eigenvalues, eigenvectors = find_eigenvalues_eigenvectors(covariance_matrix)\n",
    "print(eigenvalues)\n",
    "variance_explained = compute_variance_explained(eigenvalues)\n",
    "for i, explained_variance in enumerate(variance_explained):\n",
    "    print(f\"PC{i+1}: {explained_variance:.2f}% of variance explained\")\n",
    "    \n",
    "threshold = 30  # Variance threshold in percentage\n",
    "feature_vectors = keep_significant_eigenvectors(eigenvectors, variance_explained, threshold)\n",
    "print(\"Feature vectors:\")\n",
    "print(feature_vectors)\n",
    "\n",
    "projected_data = project_data_onto_principal_components(normalized_data.values, feature_vectors)\n",
    "print(\"Projected data onto principal components:\")\n",
    "print(projected_data)"
   ]
  },
  {
   "cell_type": "markdown",
   "id": "11f219ed-e237-4946-a28a-0f32ac32a939",
   "metadata": {},
   "source": [
    "### Now we use this function for real world data"
   ]
  },
  {
   "cell_type": "code",
   "execution_count": 24,
   "id": "07f005f7-abb5-4312-820c-0740e129ce46",
   "metadata": {},
   "outputs": [
    {
     "name": "stdout",
     "output_type": "stream",
     "text": [
      "<class 'pandas.core.frame.DataFrame'>\n",
      "RangeIndex: 311 entries, 0 to 310\n",
      "Data columns (total 4 columns):\n",
      " #   Column            Non-Null Count  Dtype  \n",
      "---  ------            --------------  -----  \n",
      " 0   Salary            311 non-null    int64  \n",
      " 1   PerformanceScore  311 non-null    object \n",
      " 2   EngagementSurvey  311 non-null    float64\n",
      " 3   Absences          311 non-null    int64  \n",
      "dtypes: float64(1), int64(2), object(1)\n",
      "memory usage: 9.8+ KB\n",
      "<class 'pandas.core.frame.DataFrame'>\n",
      "RangeIndex: 311 entries, 0 to 310\n",
      "Data columns (total 4 columns):\n",
      " #   Column            Non-Null Count  Dtype  \n",
      "---  ------            --------------  -----  \n",
      " 0   Salary            311 non-null    int64  \n",
      " 1   PerformanceScore  311 non-null    int64  \n",
      " 2   EngagementScore   311 non-null    float64\n",
      " 3   Absences          311 non-null    int64  \n",
      "dtypes: float64(1), int64(3)\n",
      "memory usage: 9.8 KB\n"
     ]
    }
   ],
   "source": [
    "# Assuming the data is in a CSV file (adjust if needed)\n",
    "dataset = pd.read_csv(\"/Users/harsh/Documents/DM/Database/hr_ds.csv\")\n",
    "\n",
    "# Selecting the desired columns\n",
    "selected_data = dataset[[\"Salary\", \"PerformanceScore\", \"EngagementSurvey\", \"Absences\"]]\n",
    "selected_data.info()\n",
    "\n",
    "# Rename the 'EngagementSurvey' column to 'EngagementScore'\n",
    "selected_data = selected_data.rename(columns={'EngagementSurvey': 'EngagementScore'})\n",
    "\n",
    "# Get unique values from the PerformanceScore column\n",
    "unique_scores = selected_data['PerformanceScore'].unique()\n",
    "\n",
    "# Create a mapping dictionary dynamically\n",
    "performance_mapping = {score: i+1 for i, score in enumerate(unique_scores)}\n",
    "\n",
    "# Convert PerformanceScore column from string to integer based on the mapping\n",
    "selected_data['PerformanceScore'] = selected_data['PerformanceScore'].map(performance_mapping)\n",
    "\n",
    "# Check the data types and information of the selected_data DataFrame\n",
    "selected_data.info()"
   ]
  },
  {
   "cell_type": "code",
   "execution_count": 28,
   "id": "2a338c60-4dc3-4367-be9f-6a4e4c6c238b",
   "metadata": {},
   "outputs": [
    {
     "name": "stdout",
     "output_type": "stream",
     "text": [
      "[0.85375841 1.14315271 1.29723957 1.41570824]\n",
      "PC1: 30.06% of variance explained\n",
      "PC2: 27.54% of variance explained\n",
      "PC3: 24.27% of variance explained\n",
      "PC4: 18.13% of variance explained\n",
      "Feature vectors:\n",
      "[[ 0.50477152  0.67086985  0.63962389  0.        ]\n",
      " [ 0.2712204  -0.06440231 -0.32284068  0.        ]\n",
      " [ 0.41864546  0.36226541  0.37027391  0.        ]\n",
      " [ 0.48881039  0.64385539  0.59122957  0.        ]]\n",
      "Projected data onto principal components:\n",
      "[[-1.1167708   1.7182455  -1.27621577 ...  3.31232871  0.93317301\n",
      "  -0.97436745]\n",
      " [-0.85450636  2.08401143 -1.40434705 ...  5.01712463  1.03671628\n",
      "  -1.36649737]\n",
      " [-0.30737579  1.99760559 -1.33524556 ...  5.23266819  1.02359608\n",
      "  -1.24859291]\n",
      " [ 0.          0.          0.         ...  0.          0.\n",
      "   0.        ]]\n"
     ]
    }
   ],
   "source": [
    "normalized_data, mean, std_dev = normalize_data(selected_data)\n",
    "cov_matrix = calculate_covariance_matrix(normalized_data)\n",
    "eigenvalues, eigenvectors = find_eigenvalues_eigenvectors(cov_matrix)\n",
    "print(eigenvalues)\n",
    "variance_explained = compute_variance_explained(eigenvalues)\n",
    "for i, explained_variance in enumerate(variance_explained):\n",
    "    print(f\"PC{i+1}: {explained_variance:.2f}% of variance explained\")\n",
    "    \n",
    "threshold = 20  # Variance threshold in percentage\n",
    "feature_vectors = keep_significant_eigenvectors(eigenvectors, variance_explained, threshold)\n",
    "print(\"Feature vectors:\")\n",
    "print(feature_vectors)\n",
    "\n",
    "projected_data = project_data_onto_principal_components(normalized_data.values, feature_vectors)\n",
    "print(\"Projected data onto principal components:\")\n",
    "print(projected_data)"
   ]
  },
  {
   "cell_type": "code",
   "execution_count": 31,
   "id": "175af243-9296-4836-8617-87ad4c2832fc",
   "metadata": {},
   "outputs": [
    {
     "data": {
      "image/png": "[encoded data removed]",
      "text/plain": [
       "<Figure size 1000x600 with 1 Axes>"
      ]
     },
     "metadata": {},
     "output_type": "display_data"
    }
   ],
   "source": [
    "# Plot input data against output data\n",
    "plt.figure(figsize=(10, 6))\n",
    "\n",
    "# Plot input data\n",
    "plt.scatter(normalized_data['Absences'], normalized_data['EngagementScore'], color='blue', label='Input Data')\n",
    "\n",
    "# Plot projected data onto principal components\n",
    "plt.scatter(projected_data[:, 3], projected_data[:, 2], color='red', label='Projected Data')\n",
    "\n",
    "plt.xlabel('Principal Component 1')\n",
    "plt.ylabel('Principal Component 2')\n",
    "plt.title('Input Data vs Projected Data')\n",
    "plt.legend()\n",
    "plt.grid(True)\n",
    "plt.show()"
   ]
  },
  {
   "cell_type": "code",
   "execution_count": null,
   "id": "a4a5f9de-8390-4342-989e-74f12b64138d",
   "metadata": {},
   "outputs": [],
   "source": []
  }
 ],
 "metadata": {
  "kernelspec": {
   "display_name": "Python 3 (ipykernel)",
   "language": "python",
   "name": "python3"
  },
  "language_info": {
   "codemirror_mode": {
    "name": "ipython",
    "version": 3
   },
   "file_extension": ".py",
   "mimetype": "text/x-python",
   "name": "python",
   "nbconvert_exporter": "python",
   "pygments_lexer": "ipython3",
   "version": "3.11.4"
  }
 },
 "nbformat": 4,
 "nbformat_minor": 5
}
