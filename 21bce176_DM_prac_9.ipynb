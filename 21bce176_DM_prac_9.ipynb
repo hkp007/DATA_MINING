{
 "cells": [
  {
   "cell_type": "markdown",
   "metadata": {},
   "source": [
    "# Data Mining (2CSDE71)\n",
    "## Name :- Harsh Pansuriya\n",
    "## Roll No. :- 21BCE176\n",
    "## Date :- 20th April, 2024\n",
    "## Prac. No :- 9"
   ]
  },
  {
   "cell_type": "markdown",
   "metadata": {},
   "source": [
    "### Aim:- \n",
    "- Implement C-Means clustering algorithm cluster the following four points (with (x; y) representing location) into two clusters.\n",
    "\n",
    "    - A1(1; 2), A2(2; 3), A3(9; 4), A4(10,1)\n",
    "\n",
    "    - B1(5; 8); B2(7; 5); B3(6; 4);\n",
    "\n",
    "    - C1(4; 2); C2(4; 9)\n",
    "\n",
    "- The distance function is Euclidean distance. Suppose initially we assign A1, B1, and C1 as the centre of each cluster, respectively. Use the k-means algorithm to show the three cluster centres and all the points of clusters after the 2nd round of execution."
   ]
  },
  {
   "cell_type": "code",
   "execution_count": 1,
   "metadata": {},
   "outputs": [
    {
     "name": "stdout",
     "output_type": "stream",
     "text": [
      "Final Cluster Centers:\n",
      "Cluster 1 Center: [2.33333333 2.33333333]\n",
      "Cluster 2 Center: [4.5 8.5]\n",
      "Cluster 3 Center: [8.  3.5]\n",
      "\n",
      "Points in Each Cluster:\n",
      "Cluster 1: [array([1, 2]), array([2, 3]), array([4, 2])]\n",
      "Cluster 2: [array([5, 8]), array([4, 9])]\n",
      "Cluster 3: [array([9, 4]), array([10,  1]), array([7, 5]), array([6, 4])]\n"
     ]
    }
   ],
   "source": [
    "import numpy as np\n",
    "\n",
    "def euclidean_distance(point1, point2):\n",
    "    return np.sqrt(np.sum((point1 - point2) ** 2))\n",
    "\n",
    "def assign_points_to_clusters(points, cluster_centers):\n",
    "    clusters = [[] for _ in range(len(cluster_centers))]\n",
    "    for point in points:\n",
    "        distances = [euclidean_distance(point, center) for center in cluster_centers]\n",
    "        nearest_cluster = np.argmin(distances)\n",
    "        clusters[nearest_cluster].append(point)\n",
    "    return clusters\n",
    "\n",
    "def update_cluster_centers(clusters):\n",
    "    new_centers = []\n",
    "    for cluster in clusters:\n",
    "        if cluster:\n",
    "            new_center = np.mean(cluster, axis=0)\n",
    "            new_centers.append(new_center)\n",
    "    return new_centers\n",
    "\n",
    "points = np.array([\n",
    "    [1, 2], [2, 3], [9, 4], [10, 1],  # Cluster A\n",
    "    [5, 8], [7, 5], [6, 4],            # Cluster B\n",
    "    [4, 2], [4, 9]                     # Cluster C\n",
    "])\n",
    "\n",
    "initial_centers = np.array([\n",
    "    [1, 2],  # Cluster 1 (A1)\n",
    "    [5, 8],  # Cluster 2 (B1)\n",
    "    [4, 2]   # Cluster 3 (C1)\n",
    "])\n",
    "\n",
    "for _ in range(2):\n",
    "    clusters = assign_points_to_clusters(points, initial_centers)\n",
    "    \n",
    "    new_centers = update_cluster_centers(clusters)\n",
    "    \n",
    "    if np.array_equal(initial_centers, new_centers):\n",
    "        break\n",
    "    \n",
    "    initial_centers = new_centers\n",
    "\n",
    "print(\"Final Cluster Centers:\")\n",
    "for i, center in enumerate(new_centers, start=1):\n",
    "    print(f\"Cluster {i} Center: {center}\")\n",
    "\n",
    "print(\"\\nPoints in Each Cluster:\")\n",
    "for i, cluster in enumerate(clusters, start=1):\n",
    "    print(f\"Cluster {i}: {cluster}\")\n"
   ]
  },
  {
   "cell_type": "code",
   "execution_count": 3,
   "metadata": {},
   "outputs": [
    {
     "name": "stdout",
     "output_type": "stream",
     "text": [
      "Cluster Centers after 2nd round of execution:\n",
      "[[2.33333333 2.33333333]\n",
      " [4.5        8.5       ]\n",
      " [8.         3.5       ]]\n",
      "Cluster Labels after 2nd round of execution:\n",
      "[0 0 2 2 1 2 2 0 1]\n"
     ]
    }
   ],
   "source": [
    "from sklearn.cluster import KMeans\n",
    "import numpy as np\n",
    "\n",
    "data_points = np.array([\n",
    "    [1, 2], [2, 3], [9, 4], [10, 1],\n",
    "    [5, 8], [7, 5], [6, 4],\n",
    "    [4, 2], [4, 9]\n",
    "])\n",
    "\n",
    "initial_centers = np.array([\n",
    "    [1, 2], [5, 8], [4, 2]\n",
    "])\n",
    "\n",
    "kmeans = KMeans(n_clusters=3, init=initial_centers, n_init=1, algorithm='lloyd')\n",
    "kmeans.fit(data_points)\n",
    "\n",
    "cluster_centers = kmeans.cluster_centers_\n",
    "labels = kmeans.labels_\n",
    "\n",
    "print(\"Cluster Centers after 2nd round of execution:\")\n",
    "print(cluster_centers)\n",
    "print(\"Cluster Labels after 2nd round of execution:\")\n",
    "print(labels)\n"
   ]
  },
  {
   "cell_type": "code",
   "execution_count": null,
   "metadata": {},
   "outputs": [],
   "source": []
  }
 ],
 "metadata": {
  "kernelspec": {
   "display_name": "Python 3",
   "language": "python",
   "name": "python3"
  },
  "language_info": {
   "codemirror_mode": {
    "name": "ipython",
    "version": 3
   },
   "file_extension": ".py",
   "mimetype": "text/x-python",
   "name": "python",
   "nbconvert_exporter": "python",
   "pygments_lexer": "ipython3",
   "version": "3.11.4"
  }
 },
 "nbformat": 4,
 "nbformat_minor": 2
}
