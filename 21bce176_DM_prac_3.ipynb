{
 "cells": [
  {
   "cell_type": "markdown",
   "id": "cd1a218a-e788-4833-8f73-3d235b0f3ef5",
   "metadata": {},
   "source": [
    "# Data Mining (2CSDE71)\n",
    "## Name :- Harsh Pansuriya\n",
    "## Roll No. :- 21BCE176\n",
    "## Date :- 2nd February, 2024\n",
    "## Prac. No :- 3"
   ]
  },
  {
   "cell_type": "markdown",
   "id": "97ce0dc7-bd4b-4fb2-a8d7-cf8ad1b247cc",
   "metadata": {},
   "source": [
    "> Identify and implement any three methods to fill the missing values indicated by’?’ in the given data set or on the dataset identified in Practical 1. (Analysis of the best method with reasoning)"
   ]
  },
  {
   "cell_type": "code",
   "execution_count": 1,
   "id": "e0638afe-612e-42bd-ad2f-457d665b6ac3",
   "metadata": {},
   "outputs": [],
   "source": [
    "import numpy as np\n",
    "import pandas as pd"
   ]
  },
  {
   "cell_type": "code",
   "execution_count": 2,
   "id": "2f37e00f-402c-4ed2-9e49-bd88e07be08a",
   "metadata": {},
   "outputs": [],
   "source": [
    "data = {'Name': ['A', 'B', 'C', 'D', 'E', 'F', 'G', 'H', 'I', 'J'],\n",
    "        'Value': [45, 37, 59, '?', 47, 39, '?', 43, 52, '?']}\n",
    "df = pd.DataFrame(data)"
   ]
  },
  {
   "cell_type": "code",
   "execution_count": 3,
   "id": "b2e646a0-4e3a-49ca-8fcd-bc35e774c10b",
   "metadata": {},
   "outputs": [
    {
     "name": "stdout",
     "output_type": "stream",
     "text": [
      "  Name Value\n",
      "0    A    45\n",
      "1    B    37\n",
      "2    C    59\n",
      "3    D     ?\n",
      "4    E    47\n",
      "5    F    39\n",
      "6    G     ?\n",
      "7    H    43\n",
      "8    I    52\n",
      "9    J     ?\n"
     ]
    }
   ],
   "source": [
    "print(df)"
   ]
  },
  {
   "cell_type": "markdown",
   "id": "cb55e215-4893-4e93-9298-01120d90926d",
   "metadata": {},
   "source": [
    "1. Remove the missing value data"
   ]
  },
  {
   "cell_type": "code",
   "execution_count": 4,
   "id": "1ace47ed-37ff-4a43-a1e0-e3e6b6f97cf4",
   "metadata": {},
   "outputs": [
    {
     "name": "stdout",
     "output_type": "stream",
     "text": [
      "DataFrame after removing missing values:\n",
      "  Name  Value\n",
      "0    A   45.0\n",
      "1    B   37.0\n",
      "2    C   59.0\n",
      "4    E   47.0\n",
      "5    F   39.0\n",
      "7    H   43.0\n",
      "8    I   52.0\n"
     ]
    }
   ],
   "source": [
    "# Convert 'Value' column to numeric, ignoring errors to handle '?'\n",
    "df['Value'] = pd.to_numeric(df['Value'], errors='coerce')\n",
    "\n",
    "# Drop rows with missing values\n",
    "df_cleaned = df.dropna()\n",
    "\n",
    "print(\"DataFrame after removing missing values:\")\n",
    "print(df_cleaned)"
   ]
  },
  {
   "cell_type": "markdown",
   "id": "da5f4be9-c6b2-4bbb-b711-7acfbdcdb2cf",
   "metadata": {},
   "source": [
    "2. Fill missing value with mean"
   ]
  },
  {
   "cell_type": "code",
   "execution_count": 5,
   "id": "cdb2ddbd-245a-4e22-8099-978d234b3634",
   "metadata": {},
   "outputs": [
    {
     "name": "stdout",
     "output_type": "stream",
     "text": [
      "Mean value is : 46.0\n",
      "DataFrame after imputation with mean:\n",
      "  Name  Value\n",
      "0    A   45.0\n",
      "1    B   37.0\n",
      "2    C   59.0\n",
      "3    D   46.0\n",
      "4    E   47.0\n",
      "5    F   39.0\n",
      "6    G   46.0\n",
      "7    H   43.0\n",
      "8    I   52.0\n",
      "9    J   46.0\n"
     ]
    }
   ],
   "source": [
    "mean_value = df['Value'].mean()\n",
    "mean_filled_df = df.copy()\n",
    "mean_filled_df['Value'].fillna(mean_value, inplace=True)\n",
    "print(f'Mean value is : {mean_value}')\n",
    "print(\"DataFrame after imputation with mean:\")\n",
    "print(mean_filled_df)"
   ]
  },
  {
   "cell_type": "markdown",
   "id": "a87467ae-e322-41df-abc7-d72f9a83e8e3",
   "metadata": {},
   "source": [
    "3. Fill missing value with median"
   ]
  },
  {
   "cell_type": "code",
   "execution_count": 6,
   "id": "9461cb2d-ad01-4823-a644-aee2c1868a17",
   "metadata": {},
   "outputs": [
    {
     "name": "stdout",
     "output_type": "stream",
     "text": [
      "Median value is : 45.0\n",
      "DataFrame after imputation with median:\n",
      "  Name  Value\n",
      "0    A   45.0\n",
      "1    B   37.0\n",
      "2    C   59.0\n",
      "3    D   45.0\n",
      "4    E   47.0\n",
      "5    F   39.0\n",
      "6    G   45.0\n",
      "7    H   43.0\n",
      "8    I   52.0\n",
      "9    J   45.0\n"
     ]
    }
   ],
   "source": [
    "median_value = df['Value'].median()\n",
    "median_filled_df = df.copy()\n",
    "median_filled_df['Value'].fillna(median_value, inplace=True)\n",
    "print(f'Median value is : {median_value}')\n",
    "print(\"DataFrame after imputation with median:\")\n",
    "print(median_filled_df)"
   ]
  },
  {
   "cell_type": "markdown",
   "id": "14809194-7e5b-413e-bc24-46bc07f8dd74",
   "metadata": {},
   "source": [
    "4. Fill missing value with mode"
   ]
  },
  {
   "cell_type": "code",
   "execution_count": 7,
   "id": "aec73de4-e41f-4e06-b7c8-89b8f73f7ecc",
   "metadata": {},
   "outputs": [
    {
     "name": "stdout",
     "output_type": "stream",
     "text": [
      "Mode value is: 37.0\n",
      "DataFrame after imputation with mode:\n",
      "  Name  Value\n",
      "0    A   45.0\n",
      "1    B   37.0\n",
      "2    C   59.0\n",
      "3    D   37.0\n",
      "4    E   47.0\n",
      "5    F   39.0\n",
      "6    G   37.0\n",
      "7    H   43.0\n",
      "8    I   52.0\n",
      "9    J   37.0\n"
     ]
    }
   ],
   "source": [
    "mode_value = df['Value'].mode().iloc[0]\n",
    "mode_filled_df = df.copy()\n",
    "mode_filled_df['Value'].fillna(mode_value, inplace=True)\n",
    "print(f'Mode value is: {mode_value}')\n",
    "print(\"DataFrame after imputation with mode:\")\n",
    "print(mode_filled_df)"
   ]
  },
  {
   "cell_type": "code",
   "execution_count": 8,
   "id": "655241cc-7525-4d33-92c8-92c4d0939569",
   "metadata": {},
   "outputs": [],
   "source": [
    "group_size = 5\n",
    "# making a new column of group index \n",
    "df['Group_Index'] = (df.index // group_size) + 1"
   ]
  },
  {
   "cell_type": "markdown",
   "id": "b99c84d6-2da6-4d63-9935-4042abb9891f",
   "metadata": {},
   "source": [
    "5. Fill the missing value with mean of a group"
   ]
  },
  {
   "cell_type": "code",
   "execution_count": 9,
   "id": "cb43d978-b144-48b8-bc7b-eef747e469ef",
   "metadata": {},
   "outputs": [
    {
     "name": "stdout",
     "output_type": "stream",
     "text": [
      "DataFrame after imputation with group mean:\n",
      "    Name      Value\n",
      "0 0    A  45.000000\n",
      "  1    B  37.000000\n",
      "  2    C  59.000000\n",
      "  3    D  47.000000\n",
      "  4    E  47.000000\n",
      "1 5    F  39.000000\n",
      "  6    G  44.666667\n",
      "  7    H  43.000000\n",
      "  8    I  52.000000\n",
      "  9    J  44.666667\n"
     ]
    }
   ],
   "source": [
    "# Function to fill missing values with group mean\n",
    "def fill_group_mean(group_df):\n",
    "    group_df['Value'].fillna(group_df['Value'].mean(), inplace=True)\n",
    "    return group_df\n",
    "    \n",
    "# Apply the group-wise filling functions\n",
    "df_filled_group_mean = df.groupby('Group_Index', as_index=False).apply(fill_group_mean)\n",
    "\n",
    "# Drop the temporary 'Group_Index' column\n",
    "df_filled_group_mean.drop('Group_Index', axis=1, inplace=True)\n",
    "\n",
    "# Print DataFrames after imputation\n",
    "print(\"DataFrame after imputation with group mean:\")\n",
    "print(df_filled_group_mean)"
   ]
  },
  {
   "cell_type": "markdown",
   "id": "5ce87ba4-2dcd-4a4a-8dc1-a38b482b04b8",
   "metadata": {},
   "source": [
    "6. Fill the missing value with median of a group"
   ]
  },
  {
   "cell_type": "code",
   "execution_count": 10,
   "id": "690c70bb-cdee-442f-af4e-c973cab00d5c",
   "metadata": {},
   "outputs": [
    {
     "name": "stdout",
     "output_type": "stream",
     "text": [
      "\n",
      "DataFrame after imputation with group median:\n",
      "    Name  Value\n",
      "0 0    A   45.0\n",
      "  1    B   37.0\n",
      "  2    C   59.0\n",
      "  3    D   46.0\n",
      "  4    E   47.0\n",
      "1 5    F   39.0\n",
      "  6    G   43.0\n",
      "  7    H   43.0\n",
      "  8    I   52.0\n",
      "  9    J   43.0\n"
     ]
    }
   ],
   "source": [
    "# Function to fill missing values with group median\n",
    "def fill_group_median(group_df):\n",
    "    group_df['Value'].fillna(group_df['Value'].median(), inplace=True)\n",
    "    return group_df\n",
    "\n",
    "# Apply the group-wise filling functions\n",
    "df_filled_group_median = df.groupby('Group_Index', as_index=False).apply(fill_group_median)\n",
    "\n",
    "# Drop the temporary 'Group_Index' column\n",
    "df_filled_group_median.drop('Group_Index', axis=1, inplace=True)\n",
    "\n",
    "# Print DataFrames after imputation\n",
    "print(\"\\nDataFrame after imputation with group median:\")\n",
    "print(df_filled_group_median)"
   ]
  },
  {
   "cell_type": "markdown",
   "id": "b40442c5-4c7e-48b9-898a-7b88ed3bb92f",
   "metadata": {},
   "source": [
    "7. Fill the missing value with mode of a group"
   ]
  },
  {
   "cell_type": "code",
   "execution_count": 11,
   "id": "c8f1334f-96f2-420c-83df-6d0768862c06",
   "metadata": {},
   "outputs": [
    {
     "name": "stdout",
     "output_type": "stream",
     "text": [
      "\n",
      "DataFrame after imputation with group mode:\n",
      "    Name  Value\n",
      "0 0    A   45.0\n",
      "  1    B   37.0\n",
      "  2    C   59.0\n",
      "  3    D   37.0\n",
      "  4    E   47.0\n",
      "1 5    F   39.0\n",
      "  6    G   39.0\n",
      "  7    H   43.0\n",
      "  8    I   52.0\n",
      "  9    J   39.0\n"
     ]
    }
   ],
   "source": [
    "# Function to fill missing values with group mode\n",
    "def fill_group_mode(group_df):\n",
    "    group_df['Value'].fillna(group_df['Value'].mode().iloc[0], inplace=True)\n",
    "    return group_df\n",
    "\n",
    "# Apply the group-wise filling functions\n",
    "df_filled_group_mode = df.groupby('Group_Index', as_index=False).apply(fill_group_mode)\n",
    "\n",
    "# Drop the temporary 'Group_Index' column\n",
    "df_filled_group_mode.drop('Group_Index', axis=1, inplace=True)\n",
    "\n",
    "# Print DataFrames after imputation\n",
    "print(\"\\nDataFrame after imputation with group mode:\")\n",
    "print(df_filled_group_mode)"
   ]
  },
  {
   "cell_type": "markdown",
   "id": "8417e322-57b8-4416-949f-dd7357984d9e",
   "metadata": {},
   "source": [
    "## Now for real world dataset"
   ]
  },
  {
   "cell_type": "code",
   "execution_count": 12,
   "id": "a0a4a6d1-a344-4b19-beab-b75e3c806c98",
   "metadata": {},
   "outputs": [],
   "source": [
    "rw_data = pd.read_csv(\"/Users/harsh/Documents/DM/Database/hr_ds.csv\")"
   ]
  },
  {
   "cell_type": "code",
   "execution_count": 13,
   "id": "146564e0-ffbd-4097-8ad5-bb7ddcb75114",
   "metadata": {},
   "outputs": [
    {
     "name": "stdout",
     "output_type": "stream",
     "text": [
      "<class 'pandas.core.frame.DataFrame'>\n",
      "RangeIndex: 311 entries, 0 to 310\n",
      "Data columns (total 3 columns):\n",
      " #   Column           Non-Null Count  Dtype  \n",
      "---  ------           --------------  -----  \n",
      " 0   Salary           311 non-null    int64  \n",
      " 1   EngagementScore  311 non-null    float64\n",
      " 2   Absences         311 non-null    int64  \n",
      "dtypes: float64(1), int64(2)\n",
      "memory usage: 7.4 KB\n"
     ]
    }
   ],
   "source": [
    "# Select the specified columns\n",
    "selected_columns = [\"Salary\", \"EngagementSurvey\", \"Absences\"]\n",
    "selected_data = rw_data[selected_columns]\n",
    "\n",
    "# Rename the 'EngagementSurvey' column to 'EngagementScore'\n",
    "selected_data = selected_data.rename(columns={'EngagementSurvey': 'EngagementScore'})\n",
    "\n",
    "selected_data.info()"
   ]
  },
  {
   "cell_type": "code",
   "execution_count": 14,
   "id": "d9ba601b-4d99-4d7a-a39e-d1ae1e637ad7",
   "metadata": {},
   "outputs": [
    {
     "name": "stdout",
     "output_type": "stream",
     "text": [
      "\n",
      "Information about missing values:\n",
      "<class 'pandas.core.frame.DataFrame'>\n",
      "RangeIndex: 311 entries, 0 to 310\n",
      "Data columns (total 3 columns):\n",
      " #   Column           Non-Null Count  Dtype  \n",
      "---  ------           --------------  -----  \n",
      " 0   Salary           276 non-null    float64\n",
      " 1   EngagementScore  277 non-null    float64\n",
      " 2   Absences         275 non-null    float64\n",
      "dtypes: float64(3)\n",
      "memory usage: 7.4 KB\n"
     ]
    }
   ],
   "source": [
    "# Introduce missing values (NaN) randomly\n",
    "selected_data_with_missing = selected_data.mask(np.random.random(selected_data.shape) < 0.1)\n",
    "\n",
    "# Check information about missing values\n",
    "print(\"\\nInformation about missing values:\")\n",
    "selected_data_with_missing.info()"
   ]
  },
  {
   "cell_type": "markdown",
   "id": "08d39e4c-ddaa-496b-af78-ff2e72a886fe",
   "metadata": {},
   "source": [
    "1. Remove the missing value data"
   ]
  },
  {
   "cell_type": "code",
   "execution_count": 15,
   "id": "aecfeb19-3b7d-4afb-8681-359136ed7767",
   "metadata": {},
   "outputs": [
    {
     "name": "stdout",
     "output_type": "stream",
     "text": [
      "DataFrame after removing missing values:\n",
      "       Salary  EngagementScore  Absences\n",
      "0     62506.0             4.60       1.0\n",
      "2     64955.0             3.02       3.0\n",
      "3     64991.0             4.84      15.0\n",
      "4     50825.0             5.00       2.0\n",
      "6     95660.0             3.04      19.0\n",
      "..        ...              ...       ...\n",
      "301   55140.0             5.00       7.0\n",
      "302   58062.0             3.60       9.0\n",
      "304   70507.0             5.00       7.0\n",
      "308  220450.0             4.60      16.0\n",
      "309   89292.0             5.00      11.0\n",
      "\n",
      "[215 rows x 3 columns]\n"
     ]
    }
   ],
   "source": [
    "# Convert selected_data_with_missing to numeric, ignoring errors to handle NaN\n",
    "selected_data_with_missing = selected_data_with_missing.apply(pd.to_numeric, errors='coerce')\n",
    "\n",
    "# Drop rows with missing values\n",
    "selected_data_cleaned = selected_data_with_missing.dropna()\n",
    "\n",
    "print(\"DataFrame after removing missing values:\")\n",
    "print(selected_data_cleaned)"
   ]
  },
  {
   "cell_type": "markdown",
   "id": "a1953759-193b-4646-8eb9-3e87a292e9fc",
   "metadata": {},
   "source": [
    "2. Fill missing value with mean"
   ]
  },
  {
   "cell_type": "code",
   "execution_count": 16,
   "id": "85c8e8bb-9280-4f54-876e-89f19de1a4f4",
   "metadata": {},
   "outputs": [
    {
     "name": "stdout",
     "output_type": "stream",
     "text": [
      "Mean values are:\n",
      "Salary             68821.608696\n",
      "EngagementScore        4.087617\n",
      "Absences              10.083636\n",
      "dtype: float64\n",
      "\n",
      "DataFrame after imputation with mean:\n",
      "            Salary  EngagementScore   Absences\n",
      "0     62506.000000             4.60   1.000000\n",
      "1    104437.000000             4.96  10.083636\n",
      "2     64955.000000             3.02   3.000000\n",
      "3     64991.000000             4.84  15.000000\n",
      "4     50825.000000             5.00   2.000000\n",
      "..             ...              ...        ...\n",
      "306   65893.000000             4.07  10.083636\n",
      "307   68821.608696             3.20   4.000000\n",
      "308  220450.000000             4.60  16.000000\n",
      "309   89292.000000             5.00  11.000000\n",
      "310   68821.608696             4.50   2.000000\n",
      "\n",
      "[311 rows x 3 columns]\n"
     ]
    }
   ],
   "source": [
    "# Calculate the mean for each column\n",
    "mean_values = selected_data_with_missing.mean()\n",
    "\n",
    "# Create a copy of the DataFrame\n",
    "mean_filled_data = selected_data_with_missing.copy()\n",
    "\n",
    "# Iterate through columns and fill missing values with corresponding mean\n",
    "for column in mean_values.index:\n",
    "    mean_filled_data[column].fillna(mean_values[column], inplace=True)\n",
    "\n",
    "# Print mean values and DataFrame after imputation\n",
    "print(f'Mean values are:\\n{mean_values}')\n",
    "print(\"\\nDataFrame after imputation with mean:\")\n",
    "print(mean_filled_data)"
   ]
  },
  {
   "cell_type": "markdown",
   "id": "cc6dbade-0af5-40ad-b7b5-93ddb7af79a2",
   "metadata": {},
   "source": [
    "3. Fill missing value with median"
   ]
  },
  {
   "cell_type": "code",
   "execution_count": 17,
   "id": "f5758c04-dfee-4e48-b6f1-0d22c36b11c5",
   "metadata": {},
   "outputs": [
    {
     "name": "stdout",
     "output_type": "stream",
     "text": [
      "Median values are:\n",
      "Salary             62586.50\n",
      "EngagementScore        4.25\n",
      "Absences              10.00\n",
      "dtype: float64\n",
      "\n",
      "DataFrame after imputation with median:\n",
      "       Salary  EngagementScore  Absences\n",
      "0     62506.0             4.60       1.0\n",
      "1    104437.0             4.96      10.0\n",
      "2     64955.0             3.02       3.0\n",
      "3     64991.0             4.84      15.0\n",
      "4     50825.0             5.00       2.0\n",
      "..        ...              ...       ...\n",
      "306   65893.0             4.07      10.0\n",
      "307   62586.5             3.20       4.0\n",
      "308  220450.0             4.60      16.0\n",
      "309   89292.0             5.00      11.0\n",
      "310   62586.5             4.50       2.0\n",
      "\n",
      "[311 rows x 3 columns]\n"
     ]
    }
   ],
   "source": [
    "# Calculate the median for each column\n",
    "median_values = selected_data_with_missing.median()\n",
    "\n",
    "# Create a copy of the DataFrame\n",
    "median_filled_data = selected_data_with_missing.copy()\n",
    "\n",
    "# Iterate through columns and fill missing values with corresponding median\n",
    "for column in median_values.index:\n",
    "    median_filled_data[column].fillna(median_values[column], inplace=True)\n",
    "\n",
    "# Print median values and DataFrame after imputation\n",
    "print(f'Median values are:\\n{median_values}')\n",
    "print(\"\\nDataFrame after imputation with median:\")\n",
    "print(median_filled_data)"
   ]
  },
  {
   "cell_type": "markdown",
   "id": "406d698c-e9af-4b37-92a8-46ea11b75a17",
   "metadata": {},
   "source": [
    "4. Fill missing value with mode"
   ]
  },
  {
   "cell_type": "code",
   "execution_count": 18,
   "id": "55706086-e0f9-474c-a3cc-4ae9b693cdb7",
   "metadata": {},
   "outputs": [
    {
     "name": "stdout",
     "output_type": "stream",
     "text": [
      "Mode values are:\n",
      "Salary             57815.0\n",
      "EngagementScore        5.0\n",
      "Absences               4.0\n",
      "Name: 0, dtype: float64\n",
      "\n",
      "DataFrame after imputation with mode:\n",
      "       Salary  EngagementScore  Absences\n",
      "0     62506.0             4.60       1.0\n",
      "1    104437.0             4.96       4.0\n",
      "2     64955.0             3.02       3.0\n",
      "3     64991.0             4.84      15.0\n",
      "4     50825.0             5.00       2.0\n",
      "..        ...              ...       ...\n",
      "306   65893.0             4.07       4.0\n",
      "307   57815.0             3.20       4.0\n",
      "308  220450.0             4.60      16.0\n",
      "309   89292.0             5.00      11.0\n",
      "310   57815.0             4.50       2.0\n",
      "\n",
      "[311 rows x 3 columns]\n"
     ]
    }
   ],
   "source": [
    "# Calculate the mode for each column\n",
    "mode_values = selected_data_with_missing.mode().iloc[0]\n",
    "\n",
    "# Create a copy of the DataFrame\n",
    "mode_filled_data = selected_data_with_missing.copy()\n",
    "\n",
    "# Iterate through columns and fill missing values with corresponding mode\n",
    "for column in mode_values.index:\n",
    "    mode_filled_data[column].fillna(mode_values[column], inplace=True)\n",
    "\n",
    "# Print mode values and DataFrame after imputation\n",
    "print(f'Mode values are:\\n{mode_values}')\n",
    "print(\"\\nDataFrame after imputation with mode:\")\n",
    "print(mode_filled_data)"
   ]
  },
  {
   "cell_type": "markdown",
   "id": "66365ffb-3a0e-4912-879a-5de83d2fc23f",
   "metadata": {},
   "source": [
    "5. Fill the missing value with mean of a group"
   ]
  },
  {
   "cell_type": "code",
   "execution_count": 20,
   "id": "60cb4880-befa-4f09-98eb-a5b81ca72d75",
   "metadata": {},
   "outputs": [
    {
     "name": "stdout",
     "output_type": "stream",
     "text": [
      "DataFrame after imputation with group mean:\n",
      "               Salary  EngagementScore   Absences\n",
      "0  0     62506.000000             4.60   1.000000\n",
      "   1    104437.000000             4.96   9.166667\n",
      "   2     64955.000000             3.02   3.000000\n",
      "   3     64991.000000             4.84  15.000000\n",
      "   4     50825.000000             5.00   2.000000\n",
      "...               ...              ...        ...\n",
      "43 306   65893.000000             4.07   9.500000\n",
      "   307   61629.333333             3.20   4.000000\n",
      "44 308  220450.000000             4.60  16.000000\n",
      "   309   89292.000000             5.00  11.000000\n",
      "   310  154871.000000             4.50   2.000000\n",
      "\n",
      "[311 rows x 3 columns]\n"
     ]
    }
   ],
   "source": [
    "# Assuming selected_data_with_missing is your DataFrame\n",
    "group_size = 7\n",
    "\n",
    "# Making a new column of group index\n",
    "selected_data_with_missing['Group_Index'] = (selected_data_with_missing.index // group_size) + 1\n",
    "\n",
    "# Identify numeric columns\n",
    "numeric_columns = selected_data_with_missing.select_dtypes(include=['number']).columns\n",
    "\n",
    "# Function to fill missing values with group mean\n",
    "def fill_group_mean(group_df, numeric_columns):\n",
    "    group_df[numeric_columns] = group_df[numeric_columns].apply(lambda x: x.fillna(x.mean()))\n",
    "    return group_df\n",
    "\n",
    "# Apply the group-wise filling functions\n",
    "selected_data_filled_group_mean = selected_data_with_missing.groupby('Group_Index', as_index=False).apply(lambda x: fill_group_mean(x, numeric_columns))\n",
    "\n",
    "# Drop the temporary 'Group_Index' column\n",
    "selected_data_filled_group_mean.drop('Group_Index', axis=1, inplace=True)\n",
    "\n",
    "# Print DataFrame after imputation with group mean\n",
    "print(\"DataFrame after imputation with group mean:\")\n",
    "print(selected_data_filled_group_mean)\n"
   ]
  },
  {
   "cell_type": "markdown",
   "id": "c01c1d35-7414-4a07-b075-7343ca8c5c94",
   "metadata": {},
   "source": [
    "6. Fill the missing value with median of a group"
   ]
  },
  {
   "cell_type": "code",
   "execution_count": 21,
   "id": "8eda087c-efab-4f0e-b090-e07cefb6630b",
   "metadata": {},
   "outputs": [
    {
     "name": "stdout",
     "output_type": "stream",
     "text": [
      "DataFrame after imputation with group median:\n",
      "                   Salary  EngagementScore  Absences\n",
      "0  0  0  0  0     62506.0             4.60       1.0\n",
      "            1    104437.0             4.96       9.0\n",
      "            2     64955.0             3.02       3.0\n",
      "            3     64991.0             4.84      15.0\n",
      "            4     50825.0             5.00       2.0\n",
      "...                   ...              ...       ...\n",
      "43 43 43 43 306   65893.0             4.07       8.0\n",
      "            307   60087.0             3.20       4.0\n",
      "44 44 44 44 308  220450.0             4.60      16.0\n",
      "            309   89292.0             5.00      11.0\n",
      "            310  154871.0             4.50       2.0\n",
      "\n",
      "[311 rows x 3 columns]\n"
     ]
    }
   ],
   "source": [
    "# Assuming selected_data_with_missing is your DataFrame\n",
    "group_size = 7\n",
    "\n",
    "# Making a new column of group index\n",
    "selected_data_with_missing['Group_Index'] = (selected_data_with_missing.index // group_size) + 1\n",
    "\n",
    "# Function to fill missing values with group median\n",
    "def fill_group_median(group_df, column_name):\n",
    "    group_df[column_name].fillna(group_df[column_name].median(), inplace=True)\n",
    "    return group_df\n",
    "\n",
    "# Apply the group-wise filling functions for each column\n",
    "for column in selected_data_with_missing.columns:\n",
    "    selected_data_with_missing = selected_data_with_missing.groupby('Group_Index', as_index=False).apply(lambda x: fill_group_median(x, column))\n",
    "\n",
    "# Drop the temporary 'Group_Index' column\n",
    "selected_data_with_missing.drop('Group_Index', axis=1, inplace=True)\n",
    "\n",
    "# Print DataFrame after imputation with group median\n",
    "print(\"DataFrame after imputation with group median:\")\n",
    "print(selected_data_with_missing)\n"
   ]
  },
  {
   "cell_type": "markdown",
   "id": "101646df-15cf-4b7e-9ce4-5cb75a444c75",
   "metadata": {},
   "source": [
    "7. Fill the missing value with mode of a group"
   ]
  },
  {
   "cell_type": "code",
   "execution_count": 23,
   "id": "2806826d-487a-46f0-9ee4-944f71add213",
   "metadata": {},
   "outputs": [
    {
     "name": "stdout",
     "output_type": "stream",
     "text": [
      "DataFrame after imputation with group mode:\n",
      "                     Salary  EngagementScore  Absences\n",
      "0 0  0  0  0  0     62506.0             4.60       1.0\n",
      "              1    104437.0             4.96       9.0\n",
      "              2     64955.0             3.02       3.0\n",
      "              3     64991.0             4.84      15.0\n",
      "              4     50825.0             5.00       2.0\n",
      "...                     ...              ...       ...\n",
      "  43 43 43 43 306   65893.0             4.07       8.0\n",
      "              307   60087.0             3.20       4.0\n",
      "  44 44 44 44 308  220450.0             4.60      16.0\n",
      "              309   89292.0             5.00      11.0\n",
      "              310  154871.0             4.50       2.0\n",
      "\n",
      "[311 rows x 3 columns]\n"
     ]
    }
   ],
   "source": [
    "# Assuming selected_data_with_missing is your DataFrame\n",
    "group_size = 7\n",
    "\n",
    "# Making a new column of group index\n",
    "selected_data_with_missing['Group_Index'] = (selected_data_with_missing.groupby(level=0).cumcount() // group_size) + 1\n",
    "\n",
    "# Identify categorical columns\n",
    "categorical_columns = selected_data_with_missing.select_dtypes(include=['object']).columns\n",
    "\n",
    "# Function to fill missing values with group mode\n",
    "def fill_group_mode(group_df, categorical_columns):\n",
    "    group_df[categorical_columns] = group_df[categorical_columns].apply(lambda x: x.fillna(x.mode().iloc[0]))\n",
    "    return group_df\n",
    "\n",
    "# Apply the group-wise filling functions\n",
    "selected_data_filled_group_mode = selected_data_with_missing.groupby('Group_Index', as_index=False).apply(lambda x: fill_group_mode(x, categorical_columns))\n",
    "\n",
    "# Drop the temporary 'Group_Index' column\n",
    "selected_data_filled_group_mode.drop('Group_Index', axis=1, inplace=True)\n",
    "\n",
    "# Print DataFrame after imputation with group mode\n",
    "print(\"DataFrame after imputation with group mode:\")\n",
    "print(selected_data_filled_group_mode)\n"
   ]
  },
  {
   "cell_type": "code",
   "execution_count": null,
   "id": "4c5bd37a-4389-4574-b2a8-8b3329c47ba4",
   "metadata": {},
   "outputs": [],
   "source": []
  }
 ],
 "metadata": {
  "kernelspec": {
   "display_name": "Python 3 (ipykernel)",
   "language": "python",
   "name": "python3"
  },
  "language_info": {
   "codemirror_mode": {
    "name": "ipython",
    "version": 3
   },
   "file_extension": ".py",
   "mimetype": "text/x-python",
   "name": "python",
   "nbconvert_exporter": "python",
   "pygments_lexer": "ipython3",
   "version": "3.11.4"
  }
 },
 "nbformat": 4,
 "nbformat_minor": 5
}
